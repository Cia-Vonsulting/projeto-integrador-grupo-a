{
 "cells": [
  {
   "cell_type": "code",
   "execution_count": 7,
   "metadata": {},
   "outputs": [
    {
     "name": "stdout",
     "output_type": "stream",
     "text": [
      "Calculation started (calculation_id=64caf170-3269-3fbf-e7f1-935f81f26d4c) in (session=b2caf16a-46ea-1bbd-43c2-c762619686e2). Checking calculation status...\n"
     ]
    },
    {
     "data": {
      "application/vnd.jupyter.widget-view+json": {
       "model_id": "3fa3b1f17cf74d629fc5b79896dc286e",
       "version_major": 2,
       "version_minor": 0
      },
      "text/plain": [
       "Progress:   0%|          |elapsed time = 00:00s"
      ]
     },
     "metadata": {},
     "output_type": "display_data"
    },
    {
     "name": "stdout",
     "output_type": "stream",
     "text": [
      "Calculation completed.\n"
     ]
    }
   ],
   "source": [
    "args = {\n",
    "    \"sourcebucket\": \"cfstack-projeto-integrador-grupo-a-raw\",\n",
    "    \"sourceprefix\": \"tlc_trip/yellow_tripdata\",\n",
    "    \"sourcedatabase\": \"tlc_trip\",\n",
    "    \"sourcezonetable\": \"taxi_zone_lookup\",\n",
    "    \"targetbucket\": \"cfstack-projeto-integrador-grupo-a-trusted\",\n",
    "    \"targetdatabase\": \"trusted_tlc_trip\",\n",
    "    \"targettable\": \"yellow_tripdata\",\n",
    "    \"month\": \"2011-03\"\n",
    "}"
   ]
  },
  {
   "cell_type": "code",
   "execution_count": null,
   "metadata": {},
   "outputs": [
    {
     "name": "stdout",
     "output_type": "stream",
     "text": [
      "Calculation started (calculation_id=b6caf170-3827-c192-dfcd-06c95810394e) in (session=b2caf16a-46ea-1bbd-43c2-c762619686e2). Checking calculation status...\n"
     ]
    },
    {
     "data": {
      "application/vnd.jupyter.widget-view+json": {
       "model_id": "4ec3478af43a43229894c3b3686059dd",
       "version_major": 2,
       "version_minor": 0
      },
      "text/plain": [
       "Progress:   0%|          |elapsed time = 00:00s"
      ]
     },
     "metadata": {},
     "output_type": "display_data"
    }
   ],
   "source": [
    "glue_script(args)"
   ]
  },
  {
   "cell_type": "code",
   "execution_count": 1,
   "metadata": {},
   "outputs": [
    {
     "name": "stdout",
     "output_type": "stream",
     "text": [
      "Calculation started (calculation_id=e0caf16b-cc28-1570-f965-3d0ddf349df0) in (session=b2caf16a-46ea-1bbd-43c2-c762619686e2). Checking calculation status...\n"
     ]
    },
    {
     "data": {
      "application/vnd.jupyter.widget-view+json": {
       "model_id": "660f9e345af748849ce09c07df487127",
       "version_major": 2,
       "version_minor": 0
      },
      "text/plain": [
       "Progress:   0%|          |elapsed time = 00:00s"
      ]
     },
     "metadata": {},
     "output_type": "display_data"
    },
    {
     "name": "stdout",
     "output_type": "stream",
     "text": [
      "Calculation completed.\n"
     ]
    }
   ],
   "source": [
    "def glue_script(args):\n",
    "    \n",
    "    source_bucket     = args['sourcebucket']\n",
    "    source_prefix     = args['sourceprefix']\n",
    "    source_database   = args['sourcedatabase']\n",
    "    source_zone_table = args['sourcezonetable']\n",
    "    target_bucket     = args['targetbucket']\n",
    "    target_database   = args['targetdatabase']\n",
    "    target_table      = args['targettable']\n",
    "    month             = args['month']\n",
    "\n",
    "    spark.read.parquet(f's3://{source_bucket}/{source_prefix}/{month}.parquet').createOrReplaceTempView('temp_yellow_tripdata')\n",
    "    \n",
    "    df = spark.sql(\n",
    "    f'''\n",
    "        SELECT\n",
    "            CAST(yt.VendorID AS INT) AS vendorid,\n",
    "            CAST(yt.tpep_pickup_datetime AS TIMESTAMP) AS pickup_datetime,\n",
    "            CAST(yt.tpep_dropoff_datetime AS TIMESTAMP) AS dropoff_datetime,\n",
    "            CAST(yt.passenger_count AS INT) AS passenger_count,\n",
    "            CAST(yt.trip_distance AS DOUBLE) AS trip_distance,\n",
    "            CAST(yt.RatecodeID AS INT) AS rate_code_id,\n",
    "            CAST(yt.store_and_fwd_flag AS STRING) AS store_and_fwd_flag,\n",
    "            CAST(puz.borough AS STRING) AS pickup_neighborhood,\n",
    "            CAST(puz.zone AS STRING) AS pickup_zone,\n",
    "            CAST(puz.service_zone AS STRING) AS pickup_service_zone,\n",
    "            CAST(doz.borough AS STRING) AS dropoff_neighborhood,\n",
    "            CAST(doz.zone AS STRING) AS dropoff_zone,\n",
    "            CAST(doz.service_zone AS STRING) AS dropoff_service_zone,\n",
    "            CAST(yt.payment_type AS INT) AS payment_type,\n",
    "            CAST(yt.fare_amount AS DOUBLE) AS fare_amount,\n",
    "            CAST(yt.extra AS DOUBLE) AS extra,\n",
    "            CAST(yt.mta_tax AS DOUBLE) AS mta_tax,\n",
    "            CAST(yt.tip_amount AS DOUBLE) AS tip_amount,\n",
    "            CAST(yt.tolls_amount AS DOUBLE) AS tolls_amount,\n",
    "            CAST(yt.improvement_surcharge AS DOUBLE) AS improvement_surcharge,\n",
    "            CAST(yt.total_amount AS DOUBLE) AS total_amount,\n",
    "            CAST(yt.congestion_surcharge AS DOUBLE) AS congestion_surcharge,\n",
    "            CAST(yt.airport_fee AS DOUBLE) AS airport_fee,\n",
    "            '{month}' AS partition_dt\n",
    "        FROM\n",
    "            temp_yellow_tripdata yt\n",
    "            INNER JOIN {source_database}.{source_zone_table} puz ON CAST(yt.PULocationID AS INT) = puz.locationid\n",
    "            INNER JOIN {source_database}.{source_zone_table} doz ON CAST(yt.DOLocationID AS INT) = doz.locationid\n",
    "    '''\n",
    "    ).cache()\n",
    "    \n",
    "    df.write. \\\n",
    "        mode('append'). \\\n",
    "        format('parquet'). \\\n",
    "        option('compression', 'snappy'). \\\n",
    "        option('path', f's3://{target_bucket}/{target_database}/{target_table}/'). \\\n",
    "        partitionBy('partition_dt'). \\\n",
    "        saveAsTable(f'{target_database}.{target_table}')"
   ]
  },
  {
   "cell_type": "code",
   "execution_count": null,
   "metadata": {},
   "outputs": [],
   "source": []
  }
 ],
 "metadata": {
  "kernelspec": {
   "display_name": "Athena PySpark",
   "language": "python",
   "name": "kepler_python_kernel"
  },
  "language_info": {
   "codemirror_mode": {
    "name": "python",
    "version": 3
   },
   "file_extension": ".py",
   "mimetype": "text/x-python",
   "name": "Python_Session",
   "pygments_lexer": "python3"
  }
 },
 "nbformat": 4,
 "nbformat_minor": 1
}
